{
  "cells": [
    {
      "cell_type": "code",
      "execution_count": 1,
      "metadata": {
        "id": "7GZgbz_c0TvA"
      },
      "outputs": [],
      "source": [
        "import sys\n",
        "\n",
        "import numpy as np\n",
        "import pandas as pd\n",
        "import torch\n",
        "\n",
        "from rnn_dataset import SequenceDataset, essay_collate_fn\n",
        "from rnn_trainer import train_rnn\n",
        "from rnn_model import GRUMultiTask\n"
      ]
    },
    {
      "cell_type": "code",
      "execution_count": 2,
      "metadata": {
        "colab": {
          "base_uri": "https://localhost:8080/"
        },
        "id": "yWq_DPFC0TvC",
        "outputId": "b55be857-3382-4e35-dd61-82602cbc6ae2"
      },
      "outputs": [
        {
          "output_type": "stream",
          "name": "stdout",
          "text": [
            "Drive already mounted at /content/drive; to attempt to forcibly remount, call drive.mount(\"/content/drive\", force_remount=True).\n",
            "Colab environment\n"
          ]
        }
      ],
      "source": [
        "IN_COLAB = 'google.colab' in sys.modules\n",
        "\n",
        "# find gpu device\n",
        "GPU_AVAILABLE = torch.cuda.is_available()\n",
        "device = torch.device('cuda' if GPU_AVAILABLE else 'cpu')\n",
        "\n",
        "\n",
        "RANDOM_SEED = 42\n",
        "\n",
        "if IN_COLAB:\n",
        "    from google.colab import drive\n",
        "    drive.mount('/content/drive')\n",
        "    print(\"Colab environment\")\n",
        "    d_path = \"./drive/MyDrive/data/sequence-embeddings/\"\n",
        "    save_path = \"./drive/MyDrive/data/sequence-embeddings/\"\n",
        "else:\n",
        "    print(\"Local environment\")\n",
        "    d_path = \"./data/\"\n",
        "    save_path = \"./data/\"\n",
        "\n",
        "BATCH_SIZE = 2048\n",
        "NUM_PRODUCTS = 49688 # number of products from the dataset"
      ]
    },
    {
      "cell_type": "code",
      "execution_count": 3,
      "metadata": {
        "id": "uEYVXmkU0TvD"
      },
      "outputs": [],
      "source": [
        "# Load the data\n",
        "# features = pd.read_csv(d_path + \"features.csv\")\n",
        "labels = pd.read_csv(d_path + \"labels.csv\")\n",
        "rnn_data = pd.read_parquet(d_path + \"rnn_data.parquet\").reset_index()\n"
      ]
    },
    {
      "cell_type": "code",
      "execution_count": 4,
      "metadata": {
        "colab": {
          "base_uri": "https://localhost:8080/",
          "height": 300
        },
        "id": "Uov1G9uu0TvD",
        "outputId": "1f7ba962-ce50-4272-f3e7-05647890c2d7"
      },
      "outputs": [
        {
          "output_type": "execute_result",
          "data": {
            "text/plain": [
              "             user_id  cls_days_to_next_order  cls_reorder_ratio\n",
              "count  206209.000000           206209.000000      206209.000000\n",
              "mean   103105.000000                1.568506           1.807394\n",
              "std     59527.555167                1.122960           0.868746\n",
              "min         1.000000                0.000000           0.000000\n",
              "25%     51553.000000                1.000000           1.000000\n",
              "50%    103105.000000                2.000000           2.000000\n",
              "75%    154657.000000                3.000000           2.000000\n",
              "max    206209.000000                3.000000           3.000000"
            ],
            "text/html": [
              "\n",
              "  <div id=\"df-8976f36c-1cdf-4f16-aec1-16c60c4b6157\">\n",
              "    <div class=\"colab-df-container\">\n",
              "      <div>\n",
              "<style scoped>\n",
              "    .dataframe tbody tr th:only-of-type {\n",
              "        vertical-align: middle;\n",
              "    }\n",
              "\n",
              "    .dataframe tbody tr th {\n",
              "        vertical-align: top;\n",
              "    }\n",
              "\n",
              "    .dataframe thead th {\n",
              "        text-align: right;\n",
              "    }\n",
              "</style>\n",
              "<table border=\"1\" class=\"dataframe\">\n",
              "  <thead>\n",
              "    <tr style=\"text-align: right;\">\n",
              "      <th></th>\n",
              "      <th>user_id</th>\n",
              "      <th>cls_days_to_next_order</th>\n",
              "      <th>cls_reorder_ratio</th>\n",
              "    </tr>\n",
              "  </thead>\n",
              "  <tbody>\n",
              "    <tr>\n",
              "      <th>count</th>\n",
              "      <td>206209.000000</td>\n",
              "      <td>206209.000000</td>\n",
              "      <td>206209.000000</td>\n",
              "    </tr>\n",
              "    <tr>\n",
              "      <th>mean</th>\n",
              "      <td>103105.000000</td>\n",
              "      <td>1.568506</td>\n",
              "      <td>1.807394</td>\n",
              "    </tr>\n",
              "    <tr>\n",
              "      <th>std</th>\n",
              "      <td>59527.555167</td>\n",
              "      <td>1.122960</td>\n",
              "      <td>0.868746</td>\n",
              "    </tr>\n",
              "    <tr>\n",
              "      <th>min</th>\n",
              "      <td>1.000000</td>\n",
              "      <td>0.000000</td>\n",
              "      <td>0.000000</td>\n",
              "    </tr>\n",
              "    <tr>\n",
              "      <th>25%</th>\n",
              "      <td>51553.000000</td>\n",
              "      <td>1.000000</td>\n",
              "      <td>1.000000</td>\n",
              "    </tr>\n",
              "    <tr>\n",
              "      <th>50%</th>\n",
              "      <td>103105.000000</td>\n",
              "      <td>2.000000</td>\n",
              "      <td>2.000000</td>\n",
              "    </tr>\n",
              "    <tr>\n",
              "      <th>75%</th>\n",
              "      <td>154657.000000</td>\n",
              "      <td>3.000000</td>\n",
              "      <td>2.000000</td>\n",
              "    </tr>\n",
              "    <tr>\n",
              "      <th>max</th>\n",
              "      <td>206209.000000</td>\n",
              "      <td>3.000000</td>\n",
              "      <td>3.000000</td>\n",
              "    </tr>\n",
              "  </tbody>\n",
              "</table>\n",
              "</div>\n",
              "      <button class=\"colab-df-convert\" onclick=\"convertToInteractive('df-8976f36c-1cdf-4f16-aec1-16c60c4b6157')\"\n",
              "              title=\"Convert this dataframe to an interactive table.\"\n",
              "              style=\"display:none;\">\n",
              "        \n",
              "  <svg xmlns=\"http://www.w3.org/2000/svg\" height=\"24px\"viewBox=\"0 0 24 24\"\n",
              "       width=\"24px\">\n",
              "    <path d=\"M0 0h24v24H0V0z\" fill=\"none\"/>\n",
              "    <path d=\"M18.56 5.44l.94 2.06.94-2.06 2.06-.94-2.06-.94-.94-2.06-.94 2.06-2.06.94zm-11 1L8.5 8.5l.94-2.06 2.06-.94-2.06-.94L8.5 2.5l-.94 2.06-2.06.94zm10 10l.94 2.06.94-2.06 2.06-.94-2.06-.94-.94-2.06-.94 2.06-2.06.94z\"/><path d=\"M17.41 7.96l-1.37-1.37c-.4-.4-.92-.59-1.43-.59-.52 0-1.04.2-1.43.59L10.3 9.45l-7.72 7.72c-.78.78-.78 2.05 0 2.83L4 21.41c.39.39.9.59 1.41.59.51 0 1.02-.2 1.41-.59l7.78-7.78 2.81-2.81c.8-.78.8-2.07 0-2.86zM5.41 20L4 18.59l7.72-7.72 1.47 1.35L5.41 20z\"/>\n",
              "  </svg>\n",
              "      </button>\n",
              "      \n",
              "  <style>\n",
              "    .colab-df-container {\n",
              "      display:flex;\n",
              "      flex-wrap:wrap;\n",
              "      gap: 12px;\n",
              "    }\n",
              "\n",
              "    .colab-df-convert {\n",
              "      background-color: #E8F0FE;\n",
              "      border: none;\n",
              "      border-radius: 50%;\n",
              "      cursor: pointer;\n",
              "      display: none;\n",
              "      fill: #1967D2;\n",
              "      height: 32px;\n",
              "      padding: 0 0 0 0;\n",
              "      width: 32px;\n",
              "    }\n",
              "\n",
              "    .colab-df-convert:hover {\n",
              "      background-color: #E2EBFA;\n",
              "      box-shadow: 0px 1px 2px rgba(60, 64, 67, 0.3), 0px 1px 3px 1px rgba(60, 64, 67, 0.15);\n",
              "      fill: #174EA6;\n",
              "    }\n",
              "\n",
              "    [theme=dark] .colab-df-convert {\n",
              "      background-color: #3B4455;\n",
              "      fill: #D2E3FC;\n",
              "    }\n",
              "\n",
              "    [theme=dark] .colab-df-convert:hover {\n",
              "      background-color: #434B5C;\n",
              "      box-shadow: 0px 1px 3px 1px rgba(0, 0, 0, 0.15);\n",
              "      filter: drop-shadow(0px 1px 2px rgba(0, 0, 0, 0.3));\n",
              "      fill: #FFFFFF;\n",
              "    }\n",
              "  </style>\n",
              "\n",
              "      <script>\n",
              "        const buttonEl =\n",
              "          document.querySelector('#df-8976f36c-1cdf-4f16-aec1-16c60c4b6157 button.colab-df-convert');\n",
              "        buttonEl.style.display =\n",
              "          google.colab.kernel.accessAllowed ? 'block' : 'none';\n",
              "\n",
              "        async function convertToInteractive(key) {\n",
              "          const element = document.querySelector('#df-8976f36c-1cdf-4f16-aec1-16c60c4b6157');\n",
              "          const dataTable =\n",
              "            await google.colab.kernel.invokeFunction('convertToInteractive',\n",
              "                                                     [key], {});\n",
              "          if (!dataTable) return;\n",
              "\n",
              "          const docLinkHtml = 'Like what you see? Visit the ' +\n",
              "            '<a target=\"_blank\" href=https://colab.research.google.com/notebooks/data_table.ipynb>data table notebook</a>'\n",
              "            + ' to learn more about interactive tables.';\n",
              "          element.innerHTML = '';\n",
              "          dataTable['output_type'] = 'display_data';\n",
              "          await google.colab.output.renderOutput(dataTable, element);\n",
              "          const docLink = document.createElement('div');\n",
              "          docLink.innerHTML = docLinkHtml;\n",
              "          element.appendChild(docLink);\n",
              "        }\n",
              "      </script>\n",
              "    </div>\n",
              "  </div>\n",
              "  "
            ]
          },
          "metadata": {},
          "execution_count": 4
        }
      ],
      "source": [
        "rnn_data = rnn_data.merge(labels[[\"user_id\", \"cls_days_to_next_order\",\"cls_reorder_ratio\"]], on=\"user_id\", how=\"left\")\n",
        "rnn_data.describe()"
      ]
    },
    {
      "cell_type": "code",
      "execution_count": 5,
      "metadata": {
        "colab": {
          "base_uri": "https://localhost:8080/",
          "height": 468
        },
        "id": "b8GBmlsU0TvE",
        "outputId": "3140df95-7c6f-4b27-9de7-d4fe71ab8ee7"
      },
      "outputs": [
        {
          "output_type": "execute_result",
          "data": {
            "text/plain": [
              "        user_id                                         product_id  \\\n",
              "0             1  [196, 14084, 12427, 26088, 26405, 196, 10258, ...   \n",
              "1             2  [32792, 47766, 20574, 12000, 48110, 22474, 165...   \n",
              "2             3  [9387, 17668, 15143, 16797, 39190, 47766, 2190...   \n",
              "3             4  [36606, 7350, 35469, 2707, 42329, 7160, 1200, ...   \n",
              "4             5  [15349, 21413, 48775, 28289, 8518, 11777, 3171...   \n",
              "...         ...                                                ...   \n",
              "206204   206205  [27845, 28745, 3896, 49235, 21137, 37067, 3873...   \n",
              "206205   206206  [27086, 41387, 38530, 47011, 8021, 38530, 1152...   \n",
              "206206   206207  [47766, 3397, 3469, 2450, 45965, 20583, 30233,...   \n",
              "206207   206208  [23644, 21461, 31506, 31404, 27845, 20995, 276...   \n",
              "206208   206209  [6846, 9405, 41213, 40396, 14901, 40534, 23039...   \n",
              "\n",
              "                              norm_days_since_prior_order  \\\n",
              "0       [1.0, 1.0, 1.0, 1.0, 1.0, 0.5, 0.5, 0.5, 0.5, ...   \n",
              "1       [1.0, 1.0, 1.0, 1.0, 1.0, 1.0, 1.0, 1.0, 1.0, ...   \n",
              "2       [1.0, 1.0, 1.0, 1.0, 1.0, 1.0, 1.0, 1.0, 1.0, ...   \n",
              "3       [1.0, 1.0, 1.0, 1.0, 0.6333333333333333, 0.633...   \n",
              "4       [1.0, 1.0, 1.0, 1.0, 1.0, 1.0, 1.0, 1.0, 1.0, ...   \n",
              "...                                                   ...   \n",
              "206204  [1.0, 1.0, 1.0, 1.0, 1.0, 1.0, 1.0, 1.0, 1.0, ...   \n",
              "206205  [0.13333333333333333, 0.1, 0.1, 0.1, 0.1, 0.03...   \n",
              "206206  [1.0, 1.0, 1.0, 1.0, 1.0, 1.0, 1.0, 1.0, 1.0, ...   \n",
              "206207  [0.13333333333333333, 0.13333333333333333, 0.1...   \n",
              "206208  [1.0, 1.0, 1.0, 1.0, 1.0, 1.0, 1.0, 1.0, 1.0, ...   \n",
              "\n",
              "        cls_days_to_next_order  cls_reorder_ratio  \n",
              "0                            1                  3  \n",
              "1                            3                  1  \n",
              "2                            2                  3  \n",
              "3                            0                  0  \n",
              "4                            0                  1  \n",
              "...                        ...                ...  \n",
              "206204                       1                  1  \n",
              "206205                       1                  3  \n",
              "206206                       2                  3  \n",
              "206207                       1                  2  \n",
              "206208                       3                  2  \n",
              "\n",
              "[206209 rows x 5 columns]"
            ],
            "text/html": [
              "\n",
              "  <div id=\"df-8a6bbd3c-7e6e-46c9-b3bb-78d1ef73d68f\">\n",
              "    <div class=\"colab-df-container\">\n",
              "      <div>\n",
              "<style scoped>\n",
              "    .dataframe tbody tr th:only-of-type {\n",
              "        vertical-align: middle;\n",
              "    }\n",
              "\n",
              "    .dataframe tbody tr th {\n",
              "        vertical-align: top;\n",
              "    }\n",
              "\n",
              "    .dataframe thead th {\n",
              "        text-align: right;\n",
              "    }\n",
              "</style>\n",
              "<table border=\"1\" class=\"dataframe\">\n",
              "  <thead>\n",
              "    <tr style=\"text-align: right;\">\n",
              "      <th></th>\n",
              "      <th>user_id</th>\n",
              "      <th>product_id</th>\n",
              "      <th>norm_days_since_prior_order</th>\n",
              "      <th>cls_days_to_next_order</th>\n",
              "      <th>cls_reorder_ratio</th>\n",
              "    </tr>\n",
              "  </thead>\n",
              "  <tbody>\n",
              "    <tr>\n",
              "      <th>0</th>\n",
              "      <td>1</td>\n",
              "      <td>[196, 14084, 12427, 26088, 26405, 196, 10258, ...</td>\n",
              "      <td>[1.0, 1.0, 1.0, 1.0, 1.0, 0.5, 0.5, 0.5, 0.5, ...</td>\n",
              "      <td>1</td>\n",
              "      <td>3</td>\n",
              "    </tr>\n",
              "    <tr>\n",
              "      <th>1</th>\n",
              "      <td>2</td>\n",
              "      <td>[32792, 47766, 20574, 12000, 48110, 22474, 165...</td>\n",
              "      <td>[1.0, 1.0, 1.0, 1.0, 1.0, 1.0, 1.0, 1.0, 1.0, ...</td>\n",
              "      <td>3</td>\n",
              "      <td>1</td>\n",
              "    </tr>\n",
              "    <tr>\n",
              "      <th>2</th>\n",
              "      <td>3</td>\n",
              "      <td>[9387, 17668, 15143, 16797, 39190, 47766, 2190...</td>\n",
              "      <td>[1.0, 1.0, 1.0, 1.0, 1.0, 1.0, 1.0, 1.0, 1.0, ...</td>\n",
              "      <td>2</td>\n",
              "      <td>3</td>\n",
              "    </tr>\n",
              "    <tr>\n",
              "      <th>3</th>\n",
              "      <td>4</td>\n",
              "      <td>[36606, 7350, 35469, 2707, 42329, 7160, 1200, ...</td>\n",
              "      <td>[1.0, 1.0, 1.0, 1.0, 0.6333333333333333, 0.633...</td>\n",
              "      <td>0</td>\n",
              "      <td>0</td>\n",
              "    </tr>\n",
              "    <tr>\n",
              "      <th>4</th>\n",
              "      <td>5</td>\n",
              "      <td>[15349, 21413, 48775, 28289, 8518, 11777, 3171...</td>\n",
              "      <td>[1.0, 1.0, 1.0, 1.0, 1.0, 1.0, 1.0, 1.0, 1.0, ...</td>\n",
              "      <td>0</td>\n",
              "      <td>1</td>\n",
              "    </tr>\n",
              "    <tr>\n",
              "      <th>...</th>\n",
              "      <td>...</td>\n",
              "      <td>...</td>\n",
              "      <td>...</td>\n",
              "      <td>...</td>\n",
              "      <td>...</td>\n",
              "    </tr>\n",
              "    <tr>\n",
              "      <th>206204</th>\n",
              "      <td>206205</td>\n",
              "      <td>[27845, 28745, 3896, 49235, 21137, 37067, 3873...</td>\n",
              "      <td>[1.0, 1.0, 1.0, 1.0, 1.0, 1.0, 1.0, 1.0, 1.0, ...</td>\n",
              "      <td>1</td>\n",
              "      <td>1</td>\n",
              "    </tr>\n",
              "    <tr>\n",
              "      <th>206205</th>\n",
              "      <td>206206</td>\n",
              "      <td>[27086, 41387, 38530, 47011, 8021, 38530, 1152...</td>\n",
              "      <td>[0.13333333333333333, 0.1, 0.1, 0.1, 0.1, 0.03...</td>\n",
              "      <td>1</td>\n",
              "      <td>3</td>\n",
              "    </tr>\n",
              "    <tr>\n",
              "      <th>206206</th>\n",
              "      <td>206207</td>\n",
              "      <td>[47766, 3397, 3469, 2450, 45965, 20583, 30233,...</td>\n",
              "      <td>[1.0, 1.0, 1.0, 1.0, 1.0, 1.0, 1.0, 1.0, 1.0, ...</td>\n",
              "      <td>2</td>\n",
              "      <td>3</td>\n",
              "    </tr>\n",
              "    <tr>\n",
              "      <th>206207</th>\n",
              "      <td>206208</td>\n",
              "      <td>[23644, 21461, 31506, 31404, 27845, 20995, 276...</td>\n",
              "      <td>[0.13333333333333333, 0.13333333333333333, 0.1...</td>\n",
              "      <td>1</td>\n",
              "      <td>2</td>\n",
              "    </tr>\n",
              "    <tr>\n",
              "      <th>206208</th>\n",
              "      <td>206209</td>\n",
              "      <td>[6846, 9405, 41213, 40396, 14901, 40534, 23039...</td>\n",
              "      <td>[1.0, 1.0, 1.0, 1.0, 1.0, 1.0, 1.0, 1.0, 1.0, ...</td>\n",
              "      <td>3</td>\n",
              "      <td>2</td>\n",
              "    </tr>\n",
              "  </tbody>\n",
              "</table>\n",
              "<p>206209 rows × 5 columns</p>\n",
              "</div>\n",
              "      <button class=\"colab-df-convert\" onclick=\"convertToInteractive('df-8a6bbd3c-7e6e-46c9-b3bb-78d1ef73d68f')\"\n",
              "              title=\"Convert this dataframe to an interactive table.\"\n",
              "              style=\"display:none;\">\n",
              "        \n",
              "  <svg xmlns=\"http://www.w3.org/2000/svg\" height=\"24px\"viewBox=\"0 0 24 24\"\n",
              "       width=\"24px\">\n",
              "    <path d=\"M0 0h24v24H0V0z\" fill=\"none\"/>\n",
              "    <path d=\"M18.56 5.44l.94 2.06.94-2.06 2.06-.94-2.06-.94-.94-2.06-.94 2.06-2.06.94zm-11 1L8.5 8.5l.94-2.06 2.06-.94-2.06-.94L8.5 2.5l-.94 2.06-2.06.94zm10 10l.94 2.06.94-2.06 2.06-.94-2.06-.94-.94-2.06-.94 2.06-2.06.94z\"/><path d=\"M17.41 7.96l-1.37-1.37c-.4-.4-.92-.59-1.43-.59-.52 0-1.04.2-1.43.59L10.3 9.45l-7.72 7.72c-.78.78-.78 2.05 0 2.83L4 21.41c.39.39.9.59 1.41.59.51 0 1.02-.2 1.41-.59l7.78-7.78 2.81-2.81c.8-.78.8-2.07 0-2.86zM5.41 20L4 18.59l7.72-7.72 1.47 1.35L5.41 20z\"/>\n",
              "  </svg>\n",
              "      </button>\n",
              "      \n",
              "  <style>\n",
              "    .colab-df-container {\n",
              "      display:flex;\n",
              "      flex-wrap:wrap;\n",
              "      gap: 12px;\n",
              "    }\n",
              "\n",
              "    .colab-df-convert {\n",
              "      background-color: #E8F0FE;\n",
              "      border: none;\n",
              "      border-radius: 50%;\n",
              "      cursor: pointer;\n",
              "      display: none;\n",
              "      fill: #1967D2;\n",
              "      height: 32px;\n",
              "      padding: 0 0 0 0;\n",
              "      width: 32px;\n",
              "    }\n",
              "\n",
              "    .colab-df-convert:hover {\n",
              "      background-color: #E2EBFA;\n",
              "      box-shadow: 0px 1px 2px rgba(60, 64, 67, 0.3), 0px 1px 3px 1px rgba(60, 64, 67, 0.15);\n",
              "      fill: #174EA6;\n",
              "    }\n",
              "\n",
              "    [theme=dark] .colab-df-convert {\n",
              "      background-color: #3B4455;\n",
              "      fill: #D2E3FC;\n",
              "    }\n",
              "\n",
              "    [theme=dark] .colab-df-convert:hover {\n",
              "      background-color: #434B5C;\n",
              "      box-shadow: 0px 1px 3px 1px rgba(0, 0, 0, 0.15);\n",
              "      filter: drop-shadow(0px 1px 2px rgba(0, 0, 0, 0.3));\n",
              "      fill: #FFFFFF;\n",
              "    }\n",
              "  </style>\n",
              "\n",
              "      <script>\n",
              "        const buttonEl =\n",
              "          document.querySelector('#df-8a6bbd3c-7e6e-46c9-b3bb-78d1ef73d68f button.colab-df-convert');\n",
              "        buttonEl.style.display =\n",
              "          google.colab.kernel.accessAllowed ? 'block' : 'none';\n",
              "\n",
              "        async function convertToInteractive(key) {\n",
              "          const element = document.querySelector('#df-8a6bbd3c-7e6e-46c9-b3bb-78d1ef73d68f');\n",
              "          const dataTable =\n",
              "            await google.colab.kernel.invokeFunction('convertToInteractive',\n",
              "                                                     [key], {});\n",
              "          if (!dataTable) return;\n",
              "\n",
              "          const docLinkHtml = 'Like what you see? Visit the ' +\n",
              "            '<a target=\"_blank\" href=https://colab.research.google.com/notebooks/data_table.ipynb>data table notebook</a>'\n",
              "            + ' to learn more about interactive tables.';\n",
              "          element.innerHTML = '';\n",
              "          dataTable['output_type'] = 'display_data';\n",
              "          await google.colab.output.renderOutput(dataTable, element);\n",
              "          const docLink = document.createElement('div');\n",
              "          docLink.innerHTML = docLinkHtml;\n",
              "          element.appendChild(docLink);\n",
              "        }\n",
              "      </script>\n",
              "    </div>\n",
              "  </div>\n",
              "  "
            ]
          },
          "metadata": {},
          "execution_count": 5
        }
      ],
      "source": [
        "rnn_data"
      ]
    },
    {
      "cell_type": "code",
      "execution_count": 6,
      "metadata": {
        "id": "Y2-CrNzY0TvE"
      },
      "outputs": [],
      "source": [
        "# rnn_data[\"max_product_id\"] = rnn_data[\"product_id\"].apply(lambda x: max(x))\n",
        "# rnn_data[\"min_product_id\"] = rnn_data[\"product_id\"].apply(lambda x: min(x))\n",
        "# rnn_data[\"num_null\"] = rnn_data[\"product_id\"].apply(lambda x: len([e for e in x if not isinstance(e, int)]))\n",
        "# rnn_data[\"min_product_id\"].min()\n",
        "# rnn_data[\"product_id\"] = rnn_data[\"product_id\"].apply(lambda x: [int(e) for e in x])"
      ]
    },
    {
      "cell_type": "code",
      "execution_count": 6,
      "metadata": {
        "id": "8HeqRK270TvE"
      },
      "outputs": [],
      "source": []
    },
    {
      "cell_type": "code",
      "execution_count": 7,
      "metadata": {
        "id": "DWBWqMxz0TvE"
      },
      "outputs": [],
      "source": [
        "cls_weight_task_1 = rnn_data.cls_days_to_next_order.value_counts(normalize=True).max() / rnn_data.cls_days_to_next_order.value_counts(normalize=True).sort_index()\n",
        "cls_weight_task_2 = rnn_data.cls_reorder_ratio.value_counts(normalize=True).max() / rnn_data.cls_reorder_ratio.value_counts(normalize=True).sort_index()"
      ]
    },
    {
      "cell_type": "code",
      "execution_count": 8,
      "metadata": {
        "colab": {
          "base_uri": "https://localhost:8080/"
        },
        "id": "FfDMGNxD0TvE",
        "outputId": "faaa54dc-d7c0-4e4a-920c-7c19a6877f7a"
      },
      "outputs": [
        {
          "output_type": "stream",
          "name": "stdout",
          "text": [
            "0    1.309691\n",
            "1    1.029578\n",
            "2    1.355644\n",
            "3    1.000000\n",
            "Name: cls_days_to_next_order, dtype: float64\n",
            "0    5.714340\n",
            "1    1.672118\n",
            "2    1.000000\n",
            "3    1.966235\n",
            "Name: cls_reorder_ratio, dtype: float64\n"
          ]
        }
      ],
      "source": [
        "print(cls_weight_task_1)\n",
        "print(cls_weight_task_2)"
      ]
    },
    {
      "cell_type": "code",
      "execution_count": 9,
      "metadata": {
        "id": "aPb6ODkr0TvF"
      },
      "outputs": [],
      "source": [
        "# Split the data into train and test\n",
        "from sklearn.model_selection import train_test_split\n",
        "rnn_data_train, rnn_data_test = train_test_split(rnn_data, test_size=0.1, random_state=RANDOM_SEED)"
      ]
    },
    {
      "cell_type": "code",
      "execution_count": 10,
      "metadata": {
        "id": "BKoXLB720TvF"
      },
      "outputs": [],
      "source": [
        "rnn_data_train, rnn_data_valid = train_test_split(rnn_data_train, test_size=0.05, random_state=RANDOM_SEED)"
      ]
    },
    {
      "cell_type": "code",
      "execution_count": 11,
      "metadata": {
        "id": "w-0zD0uM0TvF"
      },
      "outputs": [],
      "source": [
        "ds_train = SequenceDataset(\n",
        "    rnn_data_train, \"product_id\", \"norm_days_since_prior_order\",\n",
        "    [\"cls_days_to_next_order\",\"cls_reorder_ratio\"]\n",
        "    )\n",
        "dl_train = torch.utils.data.DataLoader(\n",
        "    ds_train, batch_size=BATCH_SIZE, \n",
        "    shuffle=True, collate_fn=essay_collate_fn)\n",
        "ds_valid = SequenceDataset(\n",
        "    rnn_data_valid, \"product_id\", \"norm_days_since_prior_order\",\n",
        "    [\"cls_days_to_next_order\",\"cls_reorder_ratio\"]\n",
        "    )\n",
        "dl_valid = torch.utils.data.DataLoader(\n",
        "    ds_valid, batch_size=BATCH_SIZE, \n",
        "    shuffle=True, collate_fn=essay_collate_fn)"
      ]
    },
    {
      "cell_type": "code",
      "execution_count": 12,
      "metadata": {
        "colab": {
          "base_uri": "https://localhost:8080/"
        },
        "id": "r27c9bC80TvH",
        "outputId": "025b4e8d-6237-4072-fb38-f9f6ca9af0e2"
      },
      "outputs": [
        {
          "output_type": "stream",
          "name": "stdout",
          "text": [
            "device cuda\n",
            "Epoch 0000, valid loss: 2.587223, best valid loss: 2.587223\n",
            "Epoch 0001, valid loss: 2.505964, best valid loss: 2.505964\n",
            "Epoch 0002, valid loss: 2.491995, best valid loss: 2.491995\n",
            "Epoch 0003, valid loss: 2.484100, best valid loss: 2.484100\n",
            "Epoch 0004, valid loss: 2.479378, best valid loss: 2.479378\n",
            "Epoch 0005, valid loss: 2.474780, best valid loss: 2.474780\n",
            "Epoch 0006, valid loss: 2.471274, best valid loss: 2.471274\n",
            "Epoch 0007, valid loss: 2.466479, best valid loss: 2.466479\n",
            "Epoch 0008, valid loss: 2.473715, best valid loss: 2.466479\n",
            "Epoch 0009, valid loss: 2.475687, best valid loss: 2.466479\n",
            "Epoch 0010, valid loss: 2.477807, best valid loss: 2.466479\n",
            "Epoch 0011, valid loss: 2.501543, best valid loss: 2.466479\n",
            "Epoch 0012, valid loss: 2.502166, best valid loss: 2.466479\n",
            "Epoch 0013, valid loss: 2.514728, best valid loss: 2.466479\n",
            "Epoch 0014, valid loss: 2.552108, best valid loss: 2.466479\n",
            "Epoch 0015, valid loss: 2.574857, best valid loss: 2.466479\n",
            "Epoch 0016, valid loss: 2.593636, best valid loss: 2.466479\n",
            "Epoch 0017, valid loss: 2.611661, best valid loss: 2.466479\n",
            "Early stopping, best valid loss: 2.466479\n"
          ]
        }
      ],
      "source": [
        "rnn_model = GRUMultiTask(num_embeddings=NUM_PRODUCTS+1, embedding_dim=32, gru_hidden_size=32, dropout=0.2)\n",
        "best_model = train_rnn(dl_train, dl_valid, \n",
        "        model=rnn_model,\n",
        "        model_name=\"initial_model\",\n",
        "        save_path=save_path,\n",
        "        cls_weight_1 = cls_weight_task_1, \n",
        "        cls_weight_2 = cls_weight_task_2,\n",
        "        opt=torch.optim.Adam(rnn_model.parameters(), lr=0.001),\n",
        "        epochs=30)"
      ]
    },
    {
      "cell_type": "code",
      "execution_count": 12,
      "metadata": {
        "id": "M76ogno20TvH"
      },
      "outputs": [],
      "source": []
    },
    {
      "cell_type": "code",
      "source": [
        "rnn_model = GRUMultiTask(num_embeddings=NUM_PRODUCTS+1, embedding_dim=32, gru_hidden_size=64, dropout=0.2)\n",
        "best_model = train_rnn(dl_train, dl_valid, \n",
        "        model=rnn_model,\n",
        "        model_name=\"gru64_lr0.01\",\n",
        "        save_path=save_path,\n",
        "        cls_weight_1 = cls_weight_task_1, \n",
        "        cls_weight_2 = cls_weight_task_2,\n",
        "        opt=torch.optim.Adam(rnn_model.parameters(), lr=0.01),\n",
        "        epochs=30)"
      ],
      "metadata": {
        "colab": {
          "base_uri": "https://localhost:8080/"
        },
        "id": "JvCVpvBQ7NNh",
        "outputId": "c41c22d3-f7a7-4717-8bf5-ee8aa4eb5711"
      },
      "execution_count": 13,
      "outputs": [
        {
          "output_type": "stream",
          "name": "stdout",
          "text": [
            "device cuda\n",
            "Epoch 0000, valid loss: 2.494356, best valid loss: 2.494356\n",
            "Epoch 0001, valid loss: 2.491824, best valid loss: 2.491824\n",
            "Epoch 0002, valid loss: 2.497642, best valid loss: 2.491824\n",
            "Epoch 0003, valid loss: 2.545732, best valid loss: 2.491824\n",
            "Epoch 0004, valid loss: 2.662980, best valid loss: 2.491824\n",
            "Epoch 0005, valid loss: 2.832839, best valid loss: 2.491824\n",
            "Epoch 0006, valid loss: 2.921568, best valid loss: 2.491824\n",
            "Epoch 0007, valid loss: 3.177166, best valid loss: 2.491824\n",
            "Epoch 0008, valid loss: 3.394822, best valid loss: 2.491824\n",
            "Epoch 0009, valid loss: 3.730756, best valid loss: 2.491824\n",
            "Epoch 0010, valid loss: 3.700525, best valid loss: 2.491824\n",
            "Epoch 0011, valid loss: 4.081199, best valid loss: 2.491824\n",
            "Early stopping, best valid loss: 2.491824\n"
          ]
        }
      ]
    },
    {
      "cell_type": "code",
      "source": [
        "best_initial_model = GRUMultiTask(num_embeddings=NUM_PRODUCTS+1, embedding_dim=32, gru_hidden_size=32, dropout=0.2)\n",
        "best_initial_model.load_state_dict(torch.load(d_path + \"best_initial_model.pt\"))\n",
        "best_initial_model.eval()\n"
      ],
      "metadata": {
        "colab": {
          "base_uri": "https://localhost:8080/"
        },
        "id": "LuBmJZVkHtw-",
        "outputId": "67441e9e-e7a0-407e-f2c7-4b5f71c2370d"
      },
      "execution_count": 16,
      "outputs": [
        {
          "output_type": "execute_result",
          "data": {
            "text/plain": [
              "GRUMultiTask(\n",
              "  (embeddings): Embedding(49689, 32, padding_idx=0)\n",
              "  (gru): GRU(33, 32, num_layers=4, batch_first=True, dropout=0.2)\n",
              "  (task1_mlp): Sequential(\n",
              "    (0): Linear(in_features=128, out_features=128, bias=True)\n",
              "    (1): ReLU()\n",
              "    (2): Linear(in_features=128, out_features=128, bias=True)\n",
              "    (3): ReLU()\n",
              "    (4): Linear(in_features=128, out_features=128, bias=True)\n",
              "    (5): ReLU()\n",
              "    (6): Linear(in_features=128, out_features=4, bias=True)\n",
              "  )\n",
              "  (task2_mlp): Sequential(\n",
              "    (0): Linear(in_features=128, out_features=128, bias=True)\n",
              "    (1): ReLU()\n",
              "    (2): Linear(in_features=128, out_features=128, bias=True)\n",
              "    (3): ReLU()\n",
              "    (4): Linear(in_features=128, out_features=128, bias=True)\n",
              "    (5): ReLU()\n",
              "    (6): Linear(in_features=128, out_features=4, bias=True)\n",
              "  )\n",
              ")"
            ]
          },
          "metadata": {},
          "execution_count": 16
        }
      ]
    },
    {
      "cell_type": "code",
      "source": [
        "ds_test = SequenceDataset(\n",
        "    rnn_data_test, \"product_id\", \"norm_days_since_prior_order\",\n",
        "    [\"cls_days_to_next_order\",\"cls_reorder_ratio\"]\n",
        "    )\n",
        "dl_test = torch.utils.data.DataLoader(\n",
        "    ds_test, batch_size=BATCH_SIZE, \n",
        "    shuffle=False, collate_fn=essay_collate_fn)"
      ],
      "metadata": {
        "id": "ciri_HFn7oMb"
      },
      "execution_count": 15,
      "outputs": []
    },
    {
      "cell_type": "code",
      "source": [
        "\n",
        "y_pred_task1 = []\n",
        "y_pred_task2 = []\n",
        "best_initial_model.to(device)\n",
        "with torch.no_grad():\n",
        "    for (x1b, x2b, sb), yb in dl_test:\n",
        "        x1b = x1b.to(device)\n",
        "        x2b = x2b.to(device)\n",
        "        sb = sb.to(device)\n",
        "        yb = yb.to(device)\n",
        "        yb_pred_1, yb_pred_2 = best_initial_model([x1b, x2b, sb])\n",
        "        y_pred_task1.append(yb_pred_1)\n",
        "        y_pred_task2.append(yb_pred_2)"
      ],
      "metadata": {
        "id": "zMHFiwnkH5kQ"
      },
      "execution_count": 18,
      "outputs": []
    },
    {
      "cell_type": "code",
      "source": [
        "\n",
        "y_pred_task1[0].shape"
      ],
      "metadata": {
        "colab": {
          "base_uri": "https://localhost:8080/"
        },
        "id": "hPYbwg_PH5hq",
        "outputId": "7d014ff7-cc1a-46c4-ee10-e6374d7e9dc9"
      },
      "execution_count": 19,
      "outputs": [
        {
          "output_type": "execute_result",
          "data": {
            "text/plain": [
              "torch.Size([2048, 4])"
            ]
          },
          "metadata": {},
          "execution_count": 19
        }
      ]
    },
    {
      "cell_type": "code",
      "source": [
        "y_pred_proba_1_np = torch.concat(y_pred_task1).cpu().numpy()\n",
        "y_pred_proba_1_np = np.exp(y_pred_proba_1_np)/np.expand_dims(np.exp(y_pred_proba_1_np).sum(axis=1),1)\n",
        "y_pred_proba_1_np"
      ],
      "metadata": {
        "colab": {
          "base_uri": "https://localhost:8080/"
        },
        "id": "eprrLWH0H5eB",
        "outputId": "a591d0e1-f516-4e08-e180-e51e02c0849f"
      },
      "execution_count": 33,
      "outputs": [
        {
          "output_type": "execute_result",
          "data": {
            "text/plain": [
              "array([[0.3100659 , 0.31290126, 0.2308447 , 0.14618815],\n",
              "       [0.1613381 , 0.17585288, 0.25485033, 0.40795866],\n",
              "       [0.15288909, 0.26102057, 0.34558585, 0.24050444],\n",
              "       ...,\n",
              "       [0.14260565, 0.25013813, 0.33562815, 0.2716281 ],\n",
              "       [0.60275805, 0.33198577, 0.05615537, 0.00910071],\n",
              "       [0.23929557, 0.33022764, 0.28571635, 0.14476043]], dtype=float32)"
            ]
          },
          "metadata": {},
          "execution_count": 33
        }
      ]
    },
    {
      "cell_type": "code",
      "source": [
        "y_pred_proba_2_np = torch.concat(y_pred_task2).cpu().numpy()\n",
        "y_pred_proba_2_np = np.exp(y_pred_proba_2_np)/np.expand_dims(np.exp(y_pred_proba_2_np).sum(axis=1),1)\n",
        "y_pred_proba_2_np"
      ],
      "metadata": {
        "colab": {
          "base_uri": "https://localhost:8080/"
        },
        "id": "9ARrtCXSH3sO",
        "outputId": "26cd1683-96bc-4439-cbc0-0e5c2ce008a3"
      },
      "execution_count": 34,
      "outputs": [
        {
          "output_type": "execute_result",
          "data": {
            "text/plain": [
              "array([[0.2297949 , 0.30278087, 0.27492017, 0.19250412],\n",
              "       [0.8473206 , 0.08099224, 0.02651683, 0.04517031],\n",
              "       [0.04239007, 0.16434419, 0.45111993, 0.34214577],\n",
              "       ...,\n",
              "       [0.05373659, 0.30021158, 0.43800414, 0.20804776],\n",
              "       [0.00380106, 0.02847211, 0.38175786, 0.585969  ],\n",
              "       [0.0348279 , 0.1945189 , 0.48323214, 0.28742105]], dtype=float32)"
            ]
          },
          "metadata": {},
          "execution_count": 34
        }
      ]
    },
    {
      "cell_type": "code",
      "source": [
        "y_test_pred_1 = np.argmax(y_pred_proba_1_np, axis=1)\n",
        "y_test_pred_2 = np.argmax(y_pred_proba_2_np, axis=1)\n"
      ],
      "metadata": {
        "id": "Kd6-ewXUSGI5"
      },
      "execution_count": 41,
      "outputs": []
    },
    {
      "cell_type": "code",
      "source": [
        "from sklearn.metrics import classification_report\n",
        "print(classification_report(y_test_pred_1, rnn_data_test[\"cls_days_to_next_order\"]))"
      ],
      "metadata": {
        "colab": {
          "base_uri": "https://localhost:8080/"
        },
        "id": "sEmMrmXESixp",
        "outputId": "faea1ad0-0fb0-4a2a-b21f-f8e8a7906d17"
      },
      "execution_count": 42,
      "outputs": [
        {
          "output_type": "stream",
          "name": "stdout",
          "text": [
            "              precision    recall  f1-score   support\n",
            "\n",
            "           0       0.43      0.44      0.43      4484\n",
            "           1       0.27      0.36      0.31      4321\n",
            "           2       0.21      0.28      0.24      3388\n",
            "           3       0.66      0.46      0.54      8428\n",
            "\n",
            "    accuracy                           0.40     20621\n",
            "   macro avg       0.39      0.38      0.38     20621\n",
            "weighted avg       0.45      0.40      0.42     20621\n",
            "\n"
          ]
        }
      ]
    },
    {
      "cell_type": "code",
      "source": [
        "print(classification_report(y_test_pred_2, rnn_data_test[\"cls_reorder_ratio\"]))"
      ],
      "metadata": {
        "colab": {
          "base_uri": "https://localhost:8080/"
        },
        "id": "4AM1znP7TDDP",
        "outputId": "cfe7c1a4-090a-4203-97ff-d510f75281a3"
      },
      "execution_count": 44,
      "outputs": [
        {
          "output_type": "stream",
          "name": "stdout",
          "text": [
            "              precision    recall  f1-score   support\n",
            "\n",
            "           0       0.57      0.21      0.31      4185\n",
            "           1       0.41      0.42      0.41      5290\n",
            "           2       0.36      0.58      0.45      5699\n",
            "           3       0.48      0.41      0.44      5447\n",
            "\n",
            "    accuracy                           0.42     20621\n",
            "   macro avg       0.46      0.40      0.40     20621\n",
            "weighted avg       0.45      0.42      0.41     20621\n",
            "\n"
          ]
        }
      ]
    },
    {
      "cell_type": "code",
      "source": [],
      "metadata": {
        "id": "BPApWJt8StSt"
      },
      "execution_count": 44,
      "outputs": []
    },
    {
      "cell_type": "code",
      "source": [],
      "metadata": {
        "id": "qvdwz6ygTBxg"
      },
      "execution_count": null,
      "outputs": []
    }
  ],
  "metadata": {
    "kernelspec": {
      "display_name": "Python 3.10.4 ('cs7641project')",
      "language": "python",
      "name": "python3"
    },
    "language_info": {
      "codemirror_mode": {
        "name": "ipython",
        "version": 3
      },
      "file_extension": ".py",
      "mimetype": "text/x-python",
      "name": "python",
      "nbconvert_exporter": "python",
      "pygments_lexer": "ipython3",
      "version": "3.10.4"
    },
    "orig_nbformat": 4,
    "vscode": {
      "interpreter": {
        "hash": "0347152bab7395cf6d4d53b744fcb402ec7f725dba3cd9225265b4a9dcbbfed9"
      }
    },
    "colab": {
      "provenance": [],
      "machine_shape": "hm"
    },
    "accelerator": "GPU",
    "gpuClass": "premium"
  },
  "nbformat": 4,
  "nbformat_minor": 0
}